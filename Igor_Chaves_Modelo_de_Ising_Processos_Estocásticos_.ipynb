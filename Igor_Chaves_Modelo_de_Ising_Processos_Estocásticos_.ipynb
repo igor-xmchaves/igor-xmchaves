{
  "nbformat": 4,
  "nbformat_minor": 0,
  "metadata": {
    "colab": {
      "provenance": [],
      "authorship_tag": "ABX9TyOWift1C1Gl5d5uNjWUQ7yN",
      "include_colab_link": true
    },
    "kernelspec": {
      "name": "python3",
      "display_name": "Python 3"
    },
    "language_info": {
      "name": "python"
    }
  },
  "cells": [
    {
      "cell_type": "markdown",
      "metadata": {
        "id": "view-in-github",
        "colab_type": "text"
      },
      "source": [
        "<a href=\"https://colab.research.google.com/github/igor-xmchaves/igor-xmchaves/blob/main/Igor_Chaves_Modelo_de_Ising_Processos_Estoc%C3%A1sticos_.ipynb\" target=\"_parent\"><img src=\"https://colab.research.google.com/assets/colab-badge.svg\" alt=\"Open In Colab\"/></a>"
      ]
    },
    {
      "cell_type": "code",
      "source": [
        "import numpy as np\n",
        "import matplotlib.pyplot as plt\n",
        "import tqdm\n",
        "import warnings\n",
        "\n",
        "warnings.filterwarnings(\"ignore\")  # Ignora avisos desnecessários\n",
        "np.random.seed(123)  # Semente para reprodução"
      ],
      "metadata": {
        "id": "OHogDk7uINMk"
      },
      "execution_count": null,
      "outputs": []
    },
    {
      "cell_type": "code",
      "source": [
        "def ising2D(Nx, Ny, spin, pflip):\n",
        "    \"\"\"\n",
        "    Atualiza a configuração de spins usando o algoritmo de Monte Carlo.\n",
        "    \"\"\"\n",
        "    N = Nx * Ny  # Total de spins na rede\n",
        "    r = int(np.random.random() * N)  # Escolhe um spin aleatório\n",
        "    x = np.mod(r, Nx)  # Coordenada x\n",
        "    y = r // Nx  # Coordenada y\n",
        "\n",
        "    # Identifica os spins vizinhos\n",
        "    s0 = spin[r]\n",
        "    s1 = spin[np.mod(x + 1, Nx) + y * Ny]\n",
        "    s2 = spin[x + np.mod(y + 1, Ny) * Nx]\n",
        "    s3 = spin[np.mod(x - 1 + Nx, Nx) + y * Nx]\n",
        "    s4 = spin[x + np.mod(y - 1 + Ny, Ny) * Nx]\n",
        "\n",
        "    # Soma dos spins vizinhos\n",
        "    neighbours = s1 + s2 + s3 + s4\n",
        "\n",
        "    # Determina os índices para acessar pflip\n",
        "    pfliprow = 0 if s0 == 1 else 1\n",
        "    pflipcol = { -4: 0, -2: 1, 0: 2, 2: 3, 4: 4 }.get(neighbours, 2)  # Evita erro com valores inesperados\n",
        "\n",
        "    # Aplica a regra de flip do spin com base na probabilidade calculada\n",
        "    if np.random.random() < pflip[pfliprow, pflipcol]:\n",
        "        spin[r] = -spin[r]\n",
        "\n",
        "    return spin"
      ],
      "metadata": {
        "id": "MxsXOcEWGid0"
      },
      "execution_count": null,
      "outputs": []
    },
    {
      "cell_type": "code",
      "source": [
        "def ising_metropolis_2D(J, H, T, Nx, Ny, steps, warmup_steps):\n",
        "    \"\"\"\n",
        "    Executa o algoritmo de Metropolis-Hastings para o modelo de Ising 2D.\n",
        "    \"\"\"\n",
        "    N = Nx * Ny  # Total de spins\n",
        "    k = 1  # Constante de Boltzmann\n",
        "    M = np.zeros(len(T))  # Magnetização\n",
        "\n",
        "    for t in tqdm.trange(len(T)):\n",
        "        spin = np.ones(N)  # Configuração inicial com todos os spins alinhados\n",
        "        B = 1 / (k * T[t])  # Inverso da temperatura\n",
        "        pflip = np.zeros([2, 5])  # Matriz de probabilidades de flip\n",
        "\n",
        "        # Pré-calcula as probabilidades de transição\n",
        "        Si = 1\n",
        "        Sj = -4\n",
        "        for i in range(2):\n",
        "            for j in range(5):\n",
        "                pflip[i, j] = np.exp(2 * (H + J * Sj) * Si * -B)\n",
        "                Sj += 2\n",
        "            Si = -1\n",
        "            Sj = -4\n",
        "\n",
        "        # Etapa de aquecimento\n",
        "        for _ in range(warmup_steps):\n",
        "            spin = ising2D(Nx, Ny, spin, pflip)\n",
        "\n",
        "        # Simulação Monte Carlo\n",
        "        for _ in range(steps):\n",
        "            spin = ising2D(Nx, Ny, spin, pflip)\n",
        "            M[t] += np.sum(spin) / (N * steps)  # Normaliza antes da soma\n",
        "\n",
        "    return T, M"
      ],
      "metadata": {
        "id": "0bvPL-VxGj0T"
      },
      "execution_count": null,
      "outputs": []
    },
    {
      "cell_type": "code",
      "source": [
        "# Definição de três valores de beta\n",
        "betas = [0.5, 1.5, 2.5]  # Valores de β no intervalo (0,3)\n",
        "temperaturas = [1 / beta for beta in betas]  # Conversão para temperatura\n",
        "\n",
        "# Parâmetros do sistema\n",
        "Nx, Ny = 50, 50  # Tamanho da grade\n",
        "steps, warmup_steps = 100000, 100000  # Número de passos de simulação\n",
        "\n",
        "fig, axes = plt.subplots(1, 3, figsize=(15, 5))  # Criar subplots\n",
        "\n",
        "for i, beta in enumerate(betas):\n",
        "    T = [1 / beta]  # Define a temperatura correspondente\n",
        "    _, M = ising_metropolis_2D(1.0, 0.0, T, Nx, Ny, steps, warmup_steps)\n",
        "\n",
        "    # Inicializa a configuração de spins para visualização\n",
        "    spin = np.ones(Nx * Ny)\n",
        "    pflip = np.zeros([2, 5])\n",
        "    B = 1 / (1 * T[0])\n",
        "    Si, Sj = 1, -4\n",
        "    for row in range(2):\n",
        "        for col in range(5):\n",
        "            pflip[row, col] = np.exp(2 * (0.0 + 1.0 * Sj) * Si * -B)\n",
        "            Sj += 2\n",
        "        Si = -1\n",
        "        Sj = -4\n",
        "\n",
        "    # Etapa de aquecimento\n",
        "    for _ in range(warmup_steps):\n",
        "        spin = ising2D(Nx, Ny, spin, pflip)\n",
        "\n",
        "    # Simulação Monte Carlo\n",
        "    for _ in range(steps):\n",
        "        spin = ising2D(Nx, Ny, spin, pflip)\n",
        "\n",
        "    # Converte o vetor 1D de spins em uma matriz 2D para visualização\n",
        "    spin_matrix = spin.reshape((Nx, Ny))\n",
        "    axes[i].imshow(spin_matrix, interpolation=\"nearest\")  # Exibe a configuração final dos spins\n",
        "    axes[i].set_title(f\"β = {beta:.1f} (T = {1/beta:.2f})\")\n",
        "\n",
        "plt.tight_layout()\n",
        "plt.show()\n"
      ],
      "metadata": {
        "colab": {
          "base_uri": "https://localhost:8080/",
          "height": 456
        },
        "id": "uSKyoEb2AXxL",
        "outputId": "03e72774-fe8f-429b-b905-e9d4940147a0"
      },
      "execution_count": null,
      "outputs": [
        {
          "output_type": "stream",
          "name": "stderr",
          "text": [
            "100%|██████████| 1/1 [00:03<00:00,  3.03s/it]\n",
            "100%|██████████| 1/1 [00:02<00:00,  2.90s/it]\n",
            "100%|██████████| 1/1 [00:03<00:00,  3.63s/it]\n"
          ]
        },
        {
          "output_type": "display_data",
          "data": {
            "text/plain": [
              "<Figure size 1500x500 with 3 Axes>"
            ],
            "image/png": "[encoded data removed]"
          },
          "metadata": {}
        }
      ]
    }
  ]
}